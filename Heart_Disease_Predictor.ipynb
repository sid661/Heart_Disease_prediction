{
  "cells": [
    {
      "cell_type": "markdown",
      "metadata": {
        "id": "view-in-github",
        "colab_type": "text"
      },
      "source": [
        "<a href=\"https://colab.research.google.com/github/sid661/Heart_Disease_prediction/blob/main/Heart_Disease_Predictor.ipynb\" target=\"_parent\"><img src=\"https://colab.research.google.com/assets/colab-badge.svg\" alt=\"Open In Colab\"/></a>"
      ]
    },
    {
      "cell_type": "markdown",
      "source": [
        "# import libraries\n"
      ],
      "metadata": {
        "id": "WDS2jhaGtwo0"
      }
    },
    {
      "cell_type": "code",
      "source": [
        "import pandas as pd\n"
      ],
      "metadata": {
        "id": "oiC7SOIJ35Xa"
      },
      "execution_count": 1,
      "outputs": []
    },
    {
      "cell_type": "markdown",
      "source": [
        "importing the data"
      ],
      "metadata": {
        "id": "spHJg7_U4vfx"
      }
    },
    {
      "cell_type": "code",
      "source": [
        "data = pd.read_csv(\"heart.csv\")\n"
      ],
      "metadata": {
        "id": "YQjw6NLe4Csp"
      },
      "execution_count": 2,
      "outputs": []
    },
    {
      "cell_type": "markdown",
      "source": [
        "Taking care of missing values"
      ],
      "metadata": {
        "id": "S1y0W8lp4kfG"
      }
    },
    {
      "cell_type": "code",
      "source": [
        "data.isnull()"
      ],
      "metadata": {
        "id": "WpQsA2vy42nn"
      },
      "execution_count": null,
      "outputs": []
    },
    {
      "cell_type": "markdown",
      "source": [
        "Taking care of duplicate Values"
      ],
      "metadata": {
        "id": "uLPtfWmg5Q5g"
      }
    },
    {
      "cell_type": "code",
      "source": [
        "data_duplicate = data.duplicated().any()"
      ],
      "metadata": {
        "id": "oJKB5AhT4rTY"
      },
      "execution_count": 6,
      "outputs": []
    },
    {
      "cell_type": "code",
      "source": [
        "data_duplicate"
      ],
      "metadata": {
        "collapsed": true,
        "id": "Bgo9QPXs5owa"
      },
      "execution_count": null,
      "outputs": []
    },
    {
      "cell_type": "code",
      "source": [
        "data_final = data.drop_duplicates()"
      ],
      "metadata": {
        "id": "lABa7AYk52jO"
      },
      "execution_count": 8,
      "outputs": []
    },
    {
      "cell_type": "code",
      "source": [
        "data_dup = data_final.duplicated().any()"
      ],
      "metadata": {
        "id": "XeOr33BJ6QFd"
      },
      "execution_count": 10,
      "outputs": []
    },
    {
      "cell_type": "code",
      "source": [
        "data_dup"
      ],
      "metadata": {
        "collapsed": true,
        "id": "UzkKSOw86XbP"
      },
      "execution_count": null,
      "outputs": []
    },
    {
      "cell_type": "markdown",
      "source": [
        "Data Processing\n"
      ],
      "metadata": {
        "id": "RCaGB8_x6m47"
      }
    },
    {
      "cell_type": "code",
      "source": [],
      "metadata": {
        "id": "WTF-4wPX6rZT"
      },
      "execution_count": null,
      "outputs": []
    }
  ],
  "metadata": {
    "colab": {
      "toc_visible": true,
      "provenance": [],
      "include_colab_link": true
    },
    "kernelspec": {
      "display_name": "Python 3",
      "name": "python3"
    }
  },
  "nbformat": 4,
  "nbformat_minor": 0
}